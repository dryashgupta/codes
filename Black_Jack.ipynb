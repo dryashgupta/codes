{
 "cells": [
  {
   "cell_type": "markdown",
   "metadata": {},
   "source": [
    "1. Create a deck of 52 cards\n",
    "2. Shuffle the deck\n",
    "3. Ask the Player for their bet\n",
    "4. Make sure that the Player's bet does not exceed their available chips\n",
    "5. Deal two cards to the Dealer and two cards to the Player\n",
    "6. Show only one of the Dealer's cards, the other remains hidden\n",
    "7. Show both of the Player's cards\n",
    "8. Ask the Player if they wish to Hit, and take another card\n",
    "9. If the Player's hand doesn't Bust (go over 21), ask if they'd like to Hit again.\n",
    "10. If a Player Stands, play the Dealer's hand. The dealer will always Hit until the Dealer's value meets or exceeds 17\n",
    "11. Determine the winner and adjust the Player's chips accordingly\n",
    "12. Ask the Player if they'd like to play again"
   ]
  },
  {
   "cell_type": "code",
   "execution_count": 1,
   "metadata": {},
   "outputs": [],
   "source": [
    "import random \n",
    "suits = ('Clubs','Diamonds','Hearts','Spades')\n",
    "ranks  = ('Ace','Two','Three','Four','Five','Six','Seven','Eight','Nine','Ten','Jack','Queen','King')\n",
    "values= {'Two':2, 'Three':3, 'Four':4, 'Five':5, 'Six':6, 'Seven':7, 'Eight':8, 'Nine':9, 'Ten':10, 'Jack':10,\n",
    "         'Queen':10, 'King':10, 'Ace':11}"
   ]
  },
  {
   "cell_type": "code",
   "execution_count": 2,
   "metadata": {},
   "outputs": [],
   "source": [
    "class Cards():\n",
    "    def __init__(self,suit,rank):\n",
    "        self.suit = suit\n",
    "        self.rank = rank\n",
    "        \n",
    "    def __str__(self):\n",
    "        return self.rank+ ' of ' +self.suit"
   ]
  },
  {
   "cell_type": "code",
   "execution_count": 3,
   "metadata": {},
   "outputs": [
    {
     "name": "stdout",
     "output_type": "stream",
     "text": [
      "ace of yash\n"
     ]
    }
   ],
   "source": [
    "mycard = Cards('yash','ace')\n",
    "print (mycard)"
   ]
  },
  {
   "cell_type": "code",
   "execution_count": 4,
   "metadata": {},
   "outputs": [],
   "source": [
    "class Deck():\n",
    "    \n",
    "    def __init__(self):\n",
    "        self.deck = []\n",
    "        for suit in suits:\n",
    "            for rank in ranks:\n",
    "                self.deck.append(Cards(suit,rank))\n",
    "                \n",
    "    def __str__(self):\n",
    "        my_deck = ''\n",
    "        for card in self.deck:\n",
    "            my_deck += '\\n ' + card.__str__()\n",
    "        return 'The Deck has:' + my_deck\n",
    "    \n",
    "    def shuffle(self):\n",
    "        random.shuffle(self.deck)\n",
    "    \n",
    "    def new_card(self):\n",
    "        return self.deck.pop()"
   ]
  },
  {
   "cell_type": "code",
   "execution_count": 5,
   "metadata": {},
   "outputs": [
    {
     "name": "stdout",
     "output_type": "stream",
     "text": [
      "The Deck has:\n",
      " Ace of Clubs\n",
      " Two of Clubs\n",
      " Three of Clubs\n",
      " Four of Clubs\n",
      " Five of Clubs\n",
      " Six of Clubs\n",
      " Seven of Clubs\n",
      " Eight of Clubs\n",
      " Nine of Clubs\n",
      " Ten of Clubs\n",
      " Jack of Clubs\n",
      " Queen of Clubs\n",
      " King of Clubs\n",
      " Ace of Diamonds\n",
      " Two of Diamonds\n",
      " Three of Diamonds\n",
      " Four of Diamonds\n",
      " Five of Diamonds\n",
      " Six of Diamonds\n",
      " Seven of Diamonds\n",
      " Eight of Diamonds\n",
      " Nine of Diamonds\n",
      " Ten of Diamonds\n",
      " Jack of Diamonds\n",
      " Queen of Diamonds\n",
      " King of Diamonds\n",
      " Ace of Hearts\n",
      " Two of Hearts\n",
      " Three of Hearts\n",
      " Four of Hearts\n",
      " Five of Hearts\n",
      " Six of Hearts\n",
      " Seven of Hearts\n",
      " Eight of Hearts\n",
      " Nine of Hearts\n",
      " Ten of Hearts\n",
      " Jack of Hearts\n",
      " Queen of Hearts\n",
      " King of Hearts\n",
      " Ace of Spades\n",
      " Two of Spades\n",
      " Three of Spades\n",
      " Four of Spades\n",
      " Five of Spades\n",
      " Six of Spades\n",
      " Seven of Spades\n",
      " Eight of Spades\n",
      " Nine of Spades\n",
      " Ten of Spades\n",
      " Jack of Spades\n",
      " Queen of Spades\n",
      " King of Spades\n"
     ]
    }
   ],
   "source": [
    "print(Deck())"
   ]
  },
  {
   "cell_type": "code",
   "execution_count": 6,
   "metadata": {},
   "outputs": [],
   "source": [
    "class Hand():\n",
    "    \n",
    "    def __init__(self):\n",
    "        self.cards = []\n",
    "        self.aces = 0\n",
    "        self.value = 0\n",
    "    \n",
    "    def add_card(self,card):\n",
    "        self.cards.append(card)\n",
    "        self.value += values[card.rank]\n",
    "        if card.rank == 'Ace':\n",
    "            self.aces += 1\n",
    "        \n",
    "    def adjust(self):\n",
    "        if self.value > 21 and self.aces:\n",
    "            self.value -= 10\n",
    "            self.aces -= 1"
   ]
  },
  {
   "cell_type": "code",
   "execution_count": 7,
   "metadata": {},
   "outputs": [
    {
     "data": {
      "text/plain": [
       "11"
      ]
     },
     "execution_count": 7,
     "metadata": {},
     "output_type": "execute_result"
    }
   ],
   "source": [
    "test_deck = Deck()\n",
    "test_deck.shuffle()\n",
    "test_card = test_deck.new_card()\n",
    "player_hand = Hand()\n",
    "player_hand.add_card(test_card)\n",
    "player_hand.value"
   ]
  },
  {
   "cell_type": "code",
   "execution_count": 8,
   "metadata": {},
   "outputs": [
    {
     "name": "stdout",
     "output_type": "stream",
     "text": [
      "Ace of Hearts\n"
     ]
    }
   ],
   "source": [
    "for cards in player_hand.cards:\n",
    "    print (cards)"
   ]
  },
  {
   "cell_type": "code",
   "execution_count": null,
   "metadata": {},
   "outputs": [],
   "source": [
    "class Chips():\n",
    "    \n",
    "    def __init__(self):\n",
    "        self.total = 100\n",
    "        self.bet = 0\n",
    "    \n",
    "    def win_bet(self):\n",
    "        self.total += self.bet\n",
    "        \n",
    "    def lose_bet(self):\n",
    "        self.total -= self.bet"
   ]
  },
  {
   "cell_type": "code",
   "execution_count": null,
   "metadata": {},
   "outputs": [],
   "source": [
    "def take_bet(chips):\n",
    "    \n",
    "    while True:\n",
    "        try:\n",
    "            chips.bet = int(input('Place your Bid: '))\n",
    "            break\n",
    "        except:\n",
    "            print('Sorry you need to enter an integer')\n",
    "            continue\n",
    "        else:\n",
    "            if chips.bet > chips.total:\n",
    "                print('Sorry you dont have enough balance')\n",
    "                continue\n",
    "            else:\n",
    "                break "
   ]
  },
  {
   "cell_type": "code",
   "execution_count": null,
   "metadata": {},
   "outputs": [],
   "source": [
    "def hit(deck,hand):\n",
    "    hand.add_card(deck.new_card())\n",
    "    hand.adjust()"
   ]
  },
  {
   "cell_type": "code",
   "execution_count": null,
   "metadata": {},
   "outputs": [],
   "source": [
    "def hit_or_stand(deck,hand):\n",
    "    global playing\n",
    "    while True:\n",
    "        x = input(\"\\nDo you wish to hit or stand enter 'h' or 's' \")\n",
    "        \n",
    "        if (x[0].lower() == 'h'):\n",
    "            hit(deck,hand)\n",
    "            break\n",
    "        \n",
    "        elif (x[0].lower() =='s'):\n",
    "            print(\"\\nPlayer stands Dealers turn\")\n",
    "            playing = False\n",
    "            break\n",
    "        \n",
    "        else:\n",
    "            print('Sorry wrong Input')\n",
    "            continue "
   ]
  },
  {
   "cell_type": "code",
   "execution_count": null,
   "metadata": {},
   "outputs": [],
   "source": [
    "def show_some(player,dealer):\n",
    "    print('\\nOpponent Cards::')\n",
    "    print('<Card Hidden>')\n",
    "    print('',dealer.cards[1])\n",
    "    print('\\nPlayer Cards::', *player.cards, sep = '\\n')\n",
    "    \n",
    "def show_all(player,dealer):\n",
    "    print('\\nOpponent Cards:: ',*dealer.cards, sep = '\\n')\n",
    "    print('Dealer Hand: ',dealer.value)\n",
    "    print('\\nPlayer Cards::', *player.cards, sep = '\\n')\n",
    "    print('Player Hand: ',player.value)"
   ]
  },
  {
   "cell_type": "code",
   "execution_count": null,
   "metadata": {},
   "outputs": [],
   "source": [
    "def player_wins(chips):\n",
    "    print('\\nPlayer Wins')\n",
    "    chips.win_bet()\n",
    "\n",
    "def player_busts(chips):\n",
    "    print('\\nPlayer Busts')\n",
    "    chips.lose_bet()\n",
    "\n",
    "def dealer_wins(chips):\n",
    "    print('\\nDealer Wins')\n",
    "    chips.lose_bet()\n",
    "    \n",
    "def dealer_busts(chips):\n",
    "    print('\\nDealer Busts')\n",
    "    chips.win_bet()\n",
    "    \n",
    "def push():\n",
    "    print('Its a Push. Player and Dealer Tie')"
   ]
  },
  {
   "cell_type": "code",
   "execution_count": null,
   "metadata": {},
   "outputs": [
    {
     "name": "stdout",
     "output_type": "stream",
     "text": [
      "\n",
      "Welcome to BlackJack! Get as close to 21 as you can without going over!\n",
      "Dealer hits until she reaches 17. Aces count as 1 or 11.\n"
     ]
    }
   ],
   "source": [
    "playing = True\n",
    "while True:\n",
    "    print('\\nWelcome to BlackJack! Get as close to 21 as you can without going over!')\n",
    "    print('Dealer hits until she reaches 17. Aces count as 1 or 11.')\n",
    "    \n",
    "    deck = Deck()\n",
    "    deck.shuffle()\n",
    "    \n",
    "    player_card1 = deck.new_card()\n",
    "    player_card2 = deck.new_card()\n",
    "    player_hand = Hand()\n",
    "    player_hand.add_card(player_card1)\n",
    "    player_hand.add_card(player_card2)\n",
    "    \n",
    "    dealer_card1 = deck.new_card()\n",
    "    dealer_card2 = deck.new_card()\n",
    "    dealer_hand = Hand()\n",
    "    dealer_hand.add_card(dealer_card1)\n",
    "    dealer_hand.add_card(dealer_card2)\n",
    "    \n",
    "    player_chips = Chips()\n",
    "     \n",
    "    take_bet(player_chips)\n",
    "    \n",
    "    while playing:\n",
    "        show_some(player_hand,dealer_hand)\n",
    "        \n",
    "        hit_or_stand(deck,player_hand)\n",
    "        \n",
    "        if player_hand.value > 21:        \n",
    "            player_busts(player_chips)\n",
    "            break         \n",
    "        elif player_hand.value == 21:\n",
    "            show_all(player_hand,dealer_hand)\n",
    "            player_wins(player_chips)\n",
    "            break\n",
    "        else:\n",
    "            push()\n",
    "            break\n",
    "            \n",
    "    if player_hand.value < 21:\n",
    "        \n",
    "        while dealer_hand.value < 21:\n",
    "            hit(deck,dealer_hand)\n",
    "            \n",
    "            show_all(player_hand,dealer_hand)\n",
    "            \n",
    "            if dealer_hand.value > 21:\n",
    "                dealer_busts(player_chips)\n",
    "                break\n",
    "            \n",
    "            elif dealer_hand.value > player_hand.value:\n",
    "                dealer_wins(player_chips)\n",
    "                break\n",
    "                \n",
    "            elif dealer_hand.value < player_hand.value:\n",
    "                player_wins(player_chips)\n",
    "                break\n",
    "                \n",
    "            else:\n",
    "                push()\n",
    "                break\n",
    "                \n",
    "                \n",
    "    print('Player winnings stand at: ', player_chips.total)\n",
    "    \n",
    "    y = input('Do you want to play again, Enter yes or no: ')\n",
    "    \n",
    "    if (y[0].lower() == 'y'):\n",
    "        continue\n",
    "    else:\n",
    "        break"
   ]
  }
 ],
 "metadata": {
  "kernelspec": {
   "display_name": "Python 3",
   "language": "python",
   "name": "python3"
  },
  "language_info": {
   "codemirror_mode": {
    "name": "ipython",
    "version": 3
   },
   "file_extension": ".py",
   "mimetype": "text/x-python",
   "name": "python",
   "nbconvert_exporter": "python",
   "pygments_lexer": "ipython3",
   "version": "3.7.3"
  }
 },
 "nbformat": 4,
 "nbformat_minor": 2
}
